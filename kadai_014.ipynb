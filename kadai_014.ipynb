{
  "nbformat": 4,
  "nbformat_minor": 0,
  "metadata": {
    "colab": {
      "provenance": []
    },
    "kernelspec": {
      "name": "python3",
      "display_name": "Python 3"
    },
    "language_info": {
      "name": "python"
    }
  },
  "cells": [
    {
      "cell_type": "code",
      "execution_count": 10,
      "metadata": {
        "colab": {
          "base_uri": "https://localhost:8080/"
        },
        "id": "y-7OvxDl0Cws",
        "outputId": "5d76ea71-d8e6-4cec-90c0-e4cc32b10f30"
      },
      "outputs": [
        {
          "output_type": "execute_result",
          "data": {
            "text/plain": [
              "330.0"
            ]
          },
          "metadata": {},
          "execution_count": 10
        }
      ],
      "source": [
        "price1 = 100\n",
        "price2 = 200\n",
        "tax=1.1\n",
        "\n",
        "def total():\n",
        "    return (price1 + price2)*tax\n",
        "\n",
        "total()"
      ]
    }
  ]
}