{
  "nbformat": 4,
  "nbformat_minor": 0,
  "metadata": {
    "colab": {
      "provenance": []
    },
    "kernelspec": {
      "name": "python3",
      "display_name": "Python 3"
    },
    "language_info": {
      "name": "python"
    }
  },
  "cells": [
    {
      "cell_type": "code",
      "execution_count": null,
      "metadata": {
        "id": "1a8e0gm5gCGx"
      },
      "outputs": [],
      "source": []
    },
    {
      "cell_type": "code",
      "source": [
        "def add_price(kingaku, rate):\n",
        "    tax=kingaku*rate\n",
        "    total=kingaku+rate\n",
        "    print(f\"{total+tax}円\")\n",
        "add_price(3980,0.1)"
      ],
      "metadata": {
        "colab": {
          "base_uri": "https://localhost:8080/"
        },
        "id": "sBxGnyh4dl3e",
        "outputId": "4d5ebd87-13fe-4537-b6a1-30814f50d099"
      },
      "execution_count": 2,
      "outputs": [
        {
          "output_type": "stream",
          "name": "stdout",
          "text": [
            "4378.1円\n"
          ]
        }
      ]
    }
  ]
}