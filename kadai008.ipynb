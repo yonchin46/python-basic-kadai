{
  "nbformat": 4,
  "nbformat_minor": 0,
  "metadata": {
    "colab": {
      "provenance": []
    },
    "kernelspec": {
      "name": "python3",
      "display_name": "Python 3"
    },
    "language_info": {
      "name": "python"
    }
  },
  "cells": [
    {
      "cell_type": "code",
      "execution_count": 100,
      "metadata": {
        "colab": {
          "base_uri": "https://localhost:8080/"
        },
        "outputId": "e75b4484-fe88-433b-c690-07bcbb691109",
        "id": "CC3kmihYY0XR"
      },
      "outputs": [
        {
          "output_type": "stream",
          "name": "stdout",
          "text": [
            "6\n",
            "Fizz\n"
          ]
        }
      ],
      "source": [
        "import random\n",
        "var=random.randint(1,15)\n",
        "print(var)\n",
        "\n",
        "if var % 3 ==0 and var % 5 == 0:\n",
        "    print(\"FizzBuzz\")\n",
        "elif var % 3 ==0:\n",
        "    print(\"Fizz\")\n",
        "elif var % 5 ==0:\n",
        "    print(\"Buzz\")\n",
        "else:\n",
        "    print(var)\n"
      ]
    },
    {
      "cell_type": "code",
      "execution_count": 102,
      "metadata": {
        "colab": {
          "base_uri": "https://localhost:8080/"
        },
        "outputId": "a9f00eed-9b4c-41b5-c3bf-798ef8876238",
        "id": "GTGkJuZxb_d3"
      },
      "outputs": [
        {
          "output_type": "stream",
          "name": "stdout",
          "text": [
            "10\n",
            "Buzz\n"
          ]
        }
      ],
      "source": [
        "import random\n",
        "var=random.randint(1,15)\n",
        "print(var)\n",
        "\n",
        "if var % 3 ==0 and var % 5 == 0:\n",
        "    print(\"FizzBuzz\")\n",
        "elif var % 3 ==0:\n",
        "    print(\"Fizz\")\n",
        "elif var % 5 ==0:\n",
        "    print(\"Buzz\")\n",
        "else:\n",
        "    print(var)\n"
      ]
    },
    {
      "cell_type": "code",
      "execution_count": 107,
      "metadata": {
        "colab": {
          "base_uri": "https://localhost:8080/"
        },
        "outputId": "e56e701e-0da9-4645-d082-e26d403c69fc",
        "id": "0L4PhvECb-Bp"
      },
      "outputs": [
        {
          "output_type": "stream",
          "name": "stdout",
          "text": [
            "15\n",
            "FizzBuzz\n"
          ]
        }
      ],
      "source": [
        "import random\n",
        "var=random.randint(1,15)\n",
        "print(var)\n",
        "\n",
        "if var % 3 ==0 and var % 5 == 0:\n",
        "    print(\"FizzBuzz\")\n",
        "elif var % 3 ==0:\n",
        "    print(\"Fizz\")\n",
        "elif var % 5 ==0:\n",
        "    print(\"Buzz\")\n",
        "else:\n",
        "    print(var)\n"
      ]
    },
    {
      "cell_type": "code",
      "execution_count": 110,
      "metadata": {
        "colab": {
          "base_uri": "https://localhost:8080/"
        },
        "outputId": "44ad969c-a553-43fd-cd63-d07b900acbcf",
        "id": "KHx_RJQnb84h"
      },
      "outputs": [
        {
          "output_type": "stream",
          "name": "stdout",
          "text": [
            "4\n",
            "4\n"
          ]
        }
      ],
      "source": [
        "import random\n",
        "var=random.randint(1,15)\n",
        "print(var)\n",
        "\n",
        "if var % 3 ==0 and var % 5 == 0:\n",
        "    print(\"FizzBuzz\")\n",
        "elif var % 3 ==0:\n",
        "    print(\"Fizz\")\n",
        "elif var % 5 ==0:\n",
        "    print(\"Buzz\")\n",
        "else:\n",
        "    print(var)\n"
      ]
    }
  ]
}