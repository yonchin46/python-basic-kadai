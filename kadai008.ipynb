{
  "nbformat": 4,
  "nbformat_minor": 0,
  "metadata": {
    "colab": {
      "provenance": []
    },
    "kernelspec": {
      "name": "python3",
      "display_name": "Python 3"
    },
    "language_info": {
      "name": "python"
    }
  },
  "cells": [
    {
      "cell_type": "code",
      "execution_count": 19,
      "metadata": {
        "colab": {
          "base_uri": "https://localhost:8080/"
        },
        "id": "jk-8pbI6mMC3",
        "outputId": "14b0c1b7-20e1-4240-a56b-cc5951370afe"
      },
      "outputs": [
        {
          "output_type": "stream",
          "name": "stdout",
          "text": [
            "24\n",
            "Fizz\n"
          ]
        }
      ],
      "source": [
        "import random\n",
        "var=random.randint(0,100)\n",
        "print(var)\n",
        "\n",
        "if var % 3 ==0:\n",
        "    print(\"Fizz\")\n",
        "elif var % 5 ==0:\n",
        "    print(\"Buzz\")\n",
        "elif var %3 ==0 and var %5 == 0:\n",
        "    print(\"FizzBuzz\")\n",
        "else:\n",
        "    print(var)\n"
      ]
    }
  ]
}