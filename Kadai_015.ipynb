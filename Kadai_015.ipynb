{
  "nbformat": 4,
  "nbformat_minor": 0,
  "metadata": {
    "colab": {
      "provenance": []
    },
    "kernelspec": {
      "name": "python3",
      "display_name": "Python 3"
    },
    "language_info": {
      "name": "python"
    }
  },
  "cells": [
    {
      "cell_type": "code",
      "execution_count": 1,
      "metadata": {
        "colab": {
          "base_uri": "https://localhost:8080/"
        },
        "id": "aFIYuWFRmkvl",
        "outputId": "adbbe826-95e3-4ea2-d135-abf4197e1cd9"
      },
      "outputs": [
        {
          "output_type": "stream",
          "name": "stdout",
          "text": [
            "name age\n"
          ]
        }
      ],
      "source": [
        "#クラスを定義\n",
        "class Human:\n",
        "    #コンストラクタメソッドでインスタンスを初期化\n",
        "    def __init__(self, name, age):\n",
        "        #selfを使って属性を定義、Humanクラスのｲﾝｽﾀﾝｽはそれぞれ固有のnameとageを持つ\n",
        "        self.name = name\n",
        "        self.age = age\n",
        "    #メソッドを定義、printinfoはｲﾝｽﾀﾝｽﾒｿｯﾄﾞでHumanクラスのｲﾝｽﾀﾝｽに対して呼び出せる\n",
        "    def printinfo(self):\n",
        "        print(self.name, self.age)\n",
        "\n",
        "person = Human(\"name\", \"age\")\n",
        "person.printinfo()"
      ]
    }
  ]
}