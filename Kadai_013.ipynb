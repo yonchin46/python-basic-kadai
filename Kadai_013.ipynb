{
  "nbformat": 4,
  "nbformat_minor": 0,
  "metadata": {
    "colab": {
      "provenance": []
    },
    "kernelspec": {
      "name": "python3",
      "display_name": "Python 3"
    },
    "language_info": {
      "name": "python"
    }
  },
  "cells": [
    {
      "cell_type": "code",
      "execution_count": 1,
      "metadata": {
        "colab": {
          "base_uri": "https://localhost:8080/"
        },
        "id": "eZDv3ix46z-p",
        "outputId": "d6a25a98-4009-4622-f004-2ac006b129b5"
      },
      "outputs": [
        {
          "output_type": "stream",
          "name": "stdout",
          "text": [
            "商品は税込み976.8円です。\n"
          ]
        }
      ],
      "source": [
        "def add_price(kingaku, rate=0.10):\n",
        "    total = kingaku * rate + kingaku\n",
        "    return total\n",
        "\n",
        "print(f\"商品は税込み{add_price(888)}円です。\")"
      ]
    }
  ]
}