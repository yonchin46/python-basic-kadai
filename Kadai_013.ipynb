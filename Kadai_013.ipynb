{
  "nbformat": 4,
  "nbformat_minor": 0,
  "metadata": {
    "colab": {
      "provenance": []
    },
    "kernelspec": {
      "name": "python3",
      "display_name": "Python 3"
    },
    "language_info": {
      "name": "python"
    }
  },
  "cells": [
    {
      "cell_type": "code",
      "execution_count": 1,
      "metadata": {
        "colab": {
          "base_uri": "https://localhost:8080/"
        },
        "id": "eZDv3ix46z-p",
        "outputId": "201f9763-119f-4cda-85e4-8a6c3b9ee3ba"
      },
      "outputs": [
        {
          "output_type": "stream",
          "name": "stdout",
          "text": [
            "2200.0円\n"
          ]
        }
      ],
      "source": [
        "def add_price(kingaku, rate):\n",
        "    #変数taxにkingakuにrateを乗算したものをいれる。\n",
        "    tax=kingaku*rate\n",
        "    #kingakuとtaxを合計したものを表示\n",
        "    print(f\"{kingaku+tax}円\")\n",
        "add_price(2000,0.1)"
      ]
    }
  ]
}