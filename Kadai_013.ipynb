{
  "nbformat": 4,
  "nbformat_minor": 0,
  "metadata": {
    "colab": {
      "provenance": []
    },
    "kernelspec": {
      "name": "python3",
      "display_name": "Python 3"
    },
    "language_info": {
      "name": "python"
    }
  },
  "cells": [
    {
      "cell_type": "code",
      "execution_count": 6,
      "metadata": {
        "colab": {
          "base_uri": "https://localhost:8080/"
        },
        "id": "eZDv3ix46z-p",
        "outputId": "610dade5-17f0-4e60-93a9-dd604bbad8a7"
      },
      "outputs": [
        {
          "output_type": "stream",
          "name": "stdout",
          "text": [
            "商品代金は合計13200.000000000002円です。\n"
          ]
        }
      ],
      "source": [
        "def add_tax(bill):\n",
        "    return (bill*1.10)\n",
        "\n",
        "print(f\"商品代金は合計{add_tax(12000)}円です。\")"
      ]
    }
  ]
}