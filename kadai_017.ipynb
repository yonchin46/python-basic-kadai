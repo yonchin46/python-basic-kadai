{
  "nbformat": 4,
  "nbformat_minor": 0,
  "metadata": {
    "colab": {
      "provenance": []
    },
    "kernelspec": {
      "name": "python3",
      "display_name": "Python 3"
    },
    "language_info": {
      "name": "python"
    }
  },
  "cells": [
    {
      "cell_type": "code",
      "execution_count": 3,
      "metadata": {
        "colab": {
          "base_uri": "https://localhost:8080/"
        },
        "id": "CcHGEiv7aptm",
        "outputId": "66ac6f17-eaaa-4a9e-e2c1-f28effce3d73"
      },
      "outputs": [
        {
          "output_type": "stream",
          "name": "stdout",
          "text": [
            "侍太郎さんは大人です。\n",
            "侍一郎さんは大人です。\n",
            "侍二郎さんは大人ではありません。\n",
            "侍三郎さんは大人ではありません。\n",
            "侍花子さんは大人ではありません。\n"
          ]
        }
      ],
      "source": [
        "#クラスを定義/グローバルスコープ\n",
        "class Human:\n",
        "    #コンストラクタメソッドでインスタンスを初期化\n",
        "    def __init__(self, name, age):\n",
        "        #selfを使って属性name,ageを定義する。/ローカルスコープ\n",
        "        self.name = name\n",
        "        self.age = age\n",
        "    #check_adultメソッドを定義。\n",
        "    def check_adult(self):\n",
        "        #条件分岐で大人か未成年かを出力する。/ローカルスコープ\n",
        "        if self.age >= 20:\n",
        "            print(f\"{self.name}さんは大人です。\")\n",
        "        else:\n",
        "            print(f\"{self.name}さんは大人ではありません。\")\n",
        "\n",
        "#リストを用いてHumanクラスのｲﾝｽﾀﾝｽを複数生成する。/グローバルスコープ\n",
        "people = [\n",
        "    Human(\"侍太郎\", 32),\n",
        "    Human(\"侍一郎\", 28),\n",
        "    Human(\"侍二郎\", 19),\n",
        "    Human(\"侍三郎\", 10),\n",
        "    Human(\"侍花子\", 2)\n",
        "]\n",
        "\n",
        "#リストの要素分だけcheck_adultﾒｿｯﾄﾞを呼び出す/繰り返しの処理\n",
        "for person in people:\n",
        "    person.check_adult()\n",
        "\n"
      ]
    }
  ]
}