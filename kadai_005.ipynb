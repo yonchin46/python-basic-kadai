{
  "nbformat": 4,
  "nbformat_minor": 0,
  "metadata": {
    "colab": {
      "provenance": []
    },
    "kernelspec": {
      "name": "python3",
      "display_name": "Python 3"
    },
    "language_info": {
      "name": "python"
    }
  },
  "cells": [
    {
      "cell_type": "code",
      "source": [
        "upper_base=10\n",
        "lower_base=20\n",
        "height=5\n",
        "print((upper_base+lower_base)*height/2)"
      ],
      "metadata": {
        "colab": {
          "base_uri": "https://localhost:8080/"
        },
        "id": "6G_6HTSfGfJ7",
        "outputId": "a6058acc-48e3-4829-8162-65347c49f0c6"
      },
      "execution_count": null,
      "outputs": [
        {
          "output_type": "stream",
          "name": "stdout",
          "text": [
            "75.0\n"
          ]
        }
      ]
    },
    {
      "cell_type": "code",
      "source": [
        "upper_base=10\n",
        "lower_base=20\n",
        "height=5\n",
        "area=(upper_base+lower_base)*height/2\n",
        "print(f\"上底10㎝、下底20㎝の台形の面積は{area}㎠です。\")"
      ],
      "metadata": {
        "colab": {
          "base_uri": "https://localhost:8080/"
        },
        "outputId": "a637731c-33fe-471d-c93d-bed6d0d578a6",
        "id": "JhX99rQ7cWfW"
      },
      "execution_count": 1,
      "outputs": [
        {
          "output_type": "stream",
          "name": "stdout",
          "text": [
            "上底10㎝、下底20㎝の台形の面積は75.0㎠です。\n"
          ]
        }
      ]
    }
  ]
}